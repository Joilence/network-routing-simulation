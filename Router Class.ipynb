{
 "cells": [
  {
   "cell_type": "markdown",
   "metadata": {},
   "source": [
    "# Router Class"
   ]
  },
  {
   "cell_type": "markdown",
   "metadata": {},
   "source": [
    "随机发送数据包：\n",
    "    随机时间 - 随机选择 ip - 选择端口 - 发送随机数据包\n",
    "转发：\n",
    "    收到数据包 - 解析数据包 - 选择端口 - 从该端口发送\n",
    "    \n",
    "    \n",
    "维护一个线程池，每当端口收到一个包，新建一个新的线程，"
   ]
  },
  {
   "cell_type": "code",
   "execution_count": 2,
   "metadata": {},
   "outputs": [
    {
     "ename": "SyntaxError",
     "evalue": "invalid syntax (<ipython-input-2-6be685878189>, line 9)",
     "output_type": "error",
     "traceback": [
      "\u001b[0;36m  File \u001b[0;32m\"<ipython-input-2-6be685878189>\"\u001b[0;36m, line \u001b[0;32m9\u001b[0m\n\u001b[0;31m    threads = [] ```asdkj```\u001b[0m\n\u001b[0m                 ^\u001b[0m\n\u001b[0;31mSyntaxError\u001b[0m\u001b[0;31m:\u001b[0m invalid syntax\n"
     ]
    }
   ],
   "source": [
    "class router():\n",
    "    '''\n",
    "    \n",
    "    '''\n",
    "    route_info = dict()\n",
    "    route_table_ls = []\n",
    "    route_table_dv = []\n",
    "    threads = []\n",
    "    recv_port\n",
    "    \n",
    "    def __init__(self, name, alg):\n",
    "        self.route_info['name'] = name\n",
    "        self.route_info['alg'] = alg\n",
    "\n",
    "        "
   ]
  },
  {
   "cell_type": "markdown",
   "metadata": {},
   "source": [
    "为什么选用 UDP？"
   ]
  }
 ],
 "metadata": {
  "kernelspec": {
   "display_name": "Python 3",
   "language": "python",
   "name": "python3"
  },
  "language_info": {
   "codemirror_mode": {
    "name": "ipython",
    "version": 3
   },
   "file_extension": ".py",
   "mimetype": "text/x-python",
   "name": "python",
   "nbconvert_exporter": "python",
   "pygments_lexer": "ipython3",
   "version": "3.6.1"
  }
 },
 "nbformat": 4,
 "nbformat_minor": 2
}
